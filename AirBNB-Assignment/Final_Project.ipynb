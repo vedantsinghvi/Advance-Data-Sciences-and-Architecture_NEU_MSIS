{
 "cells": [
  {
   "cell_type": "code",
   "execution_count": 1,
   "metadata": {},
   "outputs": [],
   "source": [
    "import pandas as pd\n",
    "from geopy.distance import great_circle\n",
    "import warnings\n",
    "warnings.filterwarnings('ignore')\n",
    "import numpy as np\n",
    "from sklearn.metrics import r2_score\n",
    "from sklearn.ensemble import RandomForestRegressor\n",
    "from sklearn.linear_model import LinearRegression\n",
    "from sklearn.model_selection import train_test_split\n",
    "from sklearn.preprocessing import MinMaxScaler\n",
    "import seaborn as sns\n",
    "import numpy as np\n",
    "import matplotlib.pyplot as plt"
   ]
  },
  {
   "cell_type": "code",
   "execution_count": 2,
   "metadata": {},
   "outputs": [],
   "source": [
    "df = pd.read_csv('listings_summary.csv')"
   ]
  },
  {
   "cell_type": "code",
   "execution_count": 3,
   "metadata": {},
   "outputs": [],
   "source": [
    "df_listings = df[['street','neighbourhood','city','state','zipcode','market','smart_location','country_code','country','latitude','longitude','property_type','room_type','accommodates','bathrooms','bedrooms','beds','bed_type','amenities','square_feet','price','weekly_price','monthly_price','security_deposit','cleaning_fee','guests_included','extra_people','minimum_nights','maximum_nights','has_availability','availability_30','availability_60','availability_90','availability_365','review_scores_rating','review_scores_accuracy','review_scores_cleanliness','review_scores_checkin','review_scores_communication','review_scores_location','review_scores_value','requires_license','instant_bookable','is_business_travel_ready','cancellation_policy','reviews_per_month']]"
   ]
  },
  {
   "cell_type": "code",
   "execution_count": 4,
   "metadata": {},
   "outputs": [
    {
     "data": {
      "text/plain": [
       "street                             0\n",
       "neighbourhood                   1131\n",
       "city                               5\n",
       "state                             84\n",
       "zipcode                          656\n",
       "market                            63\n",
       "smart_location                     0\n",
       "country_code                       0\n",
       "country                            0\n",
       "latitude                           0\n",
       "longitude                          0\n",
       "property_type                      0\n",
       "room_type                          0\n",
       "accommodates                       0\n",
       "bathrooms                         32\n",
       "bedrooms                          18\n",
       "beds                              40\n",
       "bed_type                           0\n",
       "amenities                          0\n",
       "square_feet                    22106\n",
       "price                              0\n",
       "weekly_price                   18871\n",
       "monthly_price                  19893\n",
       "security_deposit                9361\n",
       "cleaning_fee                    7146\n",
       "guests_included                    0\n",
       "extra_people                       0\n",
       "minimum_nights                     0\n",
       "maximum_nights                     0\n",
       "has_availability                   0\n",
       "availability_30                    0\n",
       "availability_60                    0\n",
       "availability_90                    0\n",
       "availability_365                   0\n",
       "review_scores_rating            4389\n",
       "review_scores_accuracy          4414\n",
       "review_scores_cleanliness       4411\n",
       "review_scores_checkin           4432\n",
       "review_scores_communication     4418\n",
       "review_scores_location          4431\n",
       "review_scores_value             4435\n",
       "requires_license                   0\n",
       "instant_bookable                   0\n",
       "is_business_travel_ready           0\n",
       "cancellation_policy                0\n",
       "reviews_per_month               3914\n",
       "dtype: int64"
      ]
     },
     "execution_count": 4,
     "metadata": {},
     "output_type": "execute_result"
    }
   ],
   "source": [
    "df_listings.isnull().sum()"
   ]
  },
  {
   "cell_type": "code",
   "execution_count": 5,
   "metadata": {},
   "outputs": [],
   "source": [
    "df_final = df_listings[['latitude','longitude','property_type','room_type','accommodates','bathrooms','bedrooms','beds','price','security_deposit','cleaning_fee','guests_included','review_scores_rating','review_scores_accuracy','review_scores_cleanliness','review_scores_checkin','review_scores_communication','review_scores_location','review_scores_value','cancellation_policy']]"
   ]
  },
  {
   "cell_type": "code",
   "execution_count": 6,
   "metadata": {},
   "outputs": [],
   "source": [
    "df_final['price']= df_final['price'].str.replace('$','')\n",
    "df_final['security_deposit']= df_final['security_deposit'].str.replace('$','')\n",
    "df_final['cleaning_fee']= df_final['cleaning_fee'].str.replace('$','')"
   ]
  },
  {
   "cell_type": "code",
   "execution_count": 7,
   "metadata": {},
   "outputs": [],
   "source": [
    "df_final['price']= df_final['price'].str.replace(',','')\n",
    "df_final['security_deposit']= df_final['security_deposit'].str.replace(',','')\n",
    "df_final['cleaning_fee']= df_final['cleaning_fee'].str.replace(',','')"
   ]
  },
  {
   "cell_type": "code",
   "execution_count": 8,
   "metadata": {},
   "outputs": [
    {
     "data": {
      "text/plain": [
       "latitude                          0\n",
       "longitude                         0\n",
       "property_type                     0\n",
       "room_type                         0\n",
       "accommodates                      0\n",
       "bathrooms                        32\n",
       "bedrooms                         18\n",
       "beds                             40\n",
       "price                             0\n",
       "security_deposit               9361\n",
       "cleaning_fee                   7146\n",
       "guests_included                   0\n",
       "review_scores_rating           4389\n",
       "review_scores_accuracy         4414\n",
       "review_scores_cleanliness      4411\n",
       "review_scores_checkin          4432\n",
       "review_scores_communication    4418\n",
       "review_scores_location         4431\n",
       "review_scores_value            4435\n",
       "cancellation_policy               0\n",
       "dtype: int64"
      ]
     },
     "execution_count": 8,
     "metadata": {},
     "output_type": "execute_result"
    }
   ],
   "source": [
    "df_final.isnull().sum()"
   ]
  },
  {
   "cell_type": "code",
   "execution_count": 9,
   "metadata": {},
   "outputs": [],
   "source": [
    "df_final['security_deposit'] = df_final['security_deposit'].fillna('0')\n",
    "df_final['cleaning_fee'] = df_final['cleaning_fee'].fillna('0')"
   ]
  },
  {
   "cell_type": "code",
   "execution_count": 10,
   "metadata": {},
   "outputs": [
    {
     "data": {
      "text/plain": [
       "latitude                       float64\n",
       "longitude                      float64\n",
       "property_type                   object\n",
       "room_type                       object\n",
       "accommodates                     int64\n",
       "bathrooms                      float64\n",
       "bedrooms                       float64\n",
       "beds                           float64\n",
       "price                           object\n",
       "security_deposit                object\n",
       "cleaning_fee                    object\n",
       "guests_included                  int64\n",
       "review_scores_rating           float64\n",
       "review_scores_accuracy         float64\n",
       "review_scores_cleanliness      float64\n",
       "review_scores_checkin          float64\n",
       "review_scores_communication    float64\n",
       "review_scores_location         float64\n",
       "review_scores_value            float64\n",
       "cancellation_policy             object\n",
       "dtype: object"
      ]
     },
     "execution_count": 10,
     "metadata": {},
     "output_type": "execute_result"
    }
   ],
   "source": [
    "df_final.dtypes"
   ]
  },
  {
   "cell_type": "code",
   "execution_count": 11,
   "metadata": {},
   "outputs": [],
   "source": [
    "df_final['security_deposit'] = pd.to_numeric(df_final['security_deposit'])\n",
    "df_final['cleaning_fee'] = pd.to_numeric(df_final['cleaning_fee'])\n",
    "df_final['price'] = pd.to_numeric(df_final['price'])"
   ]
  },
  {
   "cell_type": "code",
   "execution_count": 12,
   "metadata": {
    "scrolled": true
   },
   "outputs": [
    {
     "data": {
      "text/html": [
       "<div>\n",
       "<style scoped>\n",
       "    .dataframe tbody tr th:only-of-type {\n",
       "        vertical-align: middle;\n",
       "    }\n",
       "\n",
       "    .dataframe tbody tr th {\n",
       "        vertical-align: top;\n",
       "    }\n",
       "\n",
       "    .dataframe thead th {\n",
       "        text-align: right;\n",
       "    }\n",
       "</style>\n",
       "<table border=\"1\" class=\"dataframe\">\n",
       "  <thead>\n",
       "    <tr style=\"text-align: right;\">\n",
       "      <th></th>\n",
       "      <th>latitude</th>\n",
       "      <th>longitude</th>\n",
       "      <th>property_type</th>\n",
       "      <th>room_type</th>\n",
       "      <th>accommodates</th>\n",
       "      <th>bathrooms</th>\n",
       "      <th>bedrooms</th>\n",
       "      <th>beds</th>\n",
       "      <th>price</th>\n",
       "      <th>security_deposit</th>\n",
       "      <th>cleaning_fee</th>\n",
       "      <th>guests_included</th>\n",
       "      <th>review_scores_rating</th>\n",
       "      <th>review_scores_accuracy</th>\n",
       "      <th>review_scores_cleanliness</th>\n",
       "      <th>review_scores_checkin</th>\n",
       "      <th>review_scores_communication</th>\n",
       "      <th>review_scores_location</th>\n",
       "      <th>review_scores_value</th>\n",
       "      <th>cancellation_policy</th>\n",
       "    </tr>\n",
       "  </thead>\n",
       "  <tbody>\n",
       "    <tr>\n",
       "      <th>0</th>\n",
       "      <td>52.534537</td>\n",
       "      <td>13.402557</td>\n",
       "      <td>Guesthouse</td>\n",
       "      <td>Entire home/apt</td>\n",
       "      <td>3</td>\n",
       "      <td>1.0</td>\n",
       "      <td>1.0</td>\n",
       "      <td>2.0</td>\n",
       "      <td>60.0</td>\n",
       "      <td>200.0</td>\n",
       "      <td>30.0</td>\n",
       "      <td>1</td>\n",
       "      <td>93.0</td>\n",
       "      <td>10.0</td>\n",
       "      <td>9.0</td>\n",
       "      <td>10.0</td>\n",
       "      <td>10.0</td>\n",
       "      <td>10.0</td>\n",
       "      <td>9.0</td>\n",
       "      <td>strict_14_with_grace_period</td>\n",
       "    </tr>\n",
       "    <tr>\n",
       "      <th>1</th>\n",
       "      <td>52.548513</td>\n",
       "      <td>13.404553</td>\n",
       "      <td>Apartment</td>\n",
       "      <td>Private room</td>\n",
       "      <td>2</td>\n",
       "      <td>1.0</td>\n",
       "      <td>1.0</td>\n",
       "      <td>1.0</td>\n",
       "      <td>17.0</td>\n",
       "      <td>0.0</td>\n",
       "      <td>0.0</td>\n",
       "      <td>1</td>\n",
       "      <td>100.0</td>\n",
       "      <td>10.0</td>\n",
       "      <td>10.0</td>\n",
       "      <td>10.0</td>\n",
       "      <td>10.0</td>\n",
       "      <td>10.0</td>\n",
       "      <td>10.0</td>\n",
       "      <td>flexible</td>\n",
       "    </tr>\n",
       "  </tbody>\n",
       "</table>\n",
       "</div>"
      ],
      "text/plain": [
       "    latitude  longitude property_type        room_type  accommodates  \\\n",
       "0  52.534537  13.402557    Guesthouse  Entire home/apt             3   \n",
       "1  52.548513  13.404553     Apartment     Private room             2   \n",
       "\n",
       "   bathrooms  bedrooms  beds  price  security_deposit  cleaning_fee  \\\n",
       "0        1.0       1.0   2.0   60.0             200.0          30.0   \n",
       "1        1.0       1.0   1.0   17.0               0.0           0.0   \n",
       "\n",
       "   guests_included  review_scores_rating  review_scores_accuracy  \\\n",
       "0                1                  93.0                    10.0   \n",
       "1                1                 100.0                    10.0   \n",
       "\n",
       "   review_scores_cleanliness  review_scores_checkin  \\\n",
       "0                        9.0                   10.0   \n",
       "1                       10.0                   10.0   \n",
       "\n",
       "   review_scores_communication  review_scores_location  review_scores_value  \\\n",
       "0                         10.0                    10.0                  9.0   \n",
       "1                         10.0                    10.0                 10.0   \n",
       "\n",
       "           cancellation_policy  \n",
       "0  strict_14_with_grace_period  \n",
       "1                     flexible  "
      ]
     },
     "execution_count": 12,
     "metadata": {},
     "output_type": "execute_result"
    }
   ],
   "source": [
    "df_final.head(2)"
   ]
  },
  {
   "cell_type": "code",
   "execution_count": 13,
   "metadata": {},
   "outputs": [
    {
     "data": {
      "text/plain": [
       "latitude                       float64\n",
       "longitude                      float64\n",
       "property_type                   object\n",
       "room_type                       object\n",
       "accommodates                     int64\n",
       "bathrooms                      float64\n",
       "bedrooms                       float64\n",
       "beds                           float64\n",
       "price                          float64\n",
       "security_deposit               float64\n",
       "cleaning_fee                   float64\n",
       "guests_included                  int64\n",
       "review_scores_rating           float64\n",
       "review_scores_accuracy         float64\n",
       "review_scores_cleanliness      float64\n",
       "review_scores_checkin          float64\n",
       "review_scores_communication    float64\n",
       "review_scores_location         float64\n",
       "review_scores_value            float64\n",
       "cancellation_policy             object\n",
       "dtype: object"
      ]
     },
     "execution_count": 13,
     "metadata": {},
     "output_type": "execute_result"
    }
   ],
   "source": [
    "df_final.dtypes"
   ]
  },
  {
   "cell_type": "code",
   "execution_count": 14,
   "metadata": {},
   "outputs": [
    {
     "data": {
      "text/plain": [
       "Apartment                 20225\n",
       "Condominium                 612\n",
       "Loft                        460\n",
       "House                       398\n",
       "Serviced apartment          175\n",
       "Hostel                      128\n",
       "Townhouse                    99\n",
       "Guest suite                  74\n",
       "Bed and breakfast            64\n",
       "Guesthouse                   57\n",
       "Hotel                        50\n",
       "Other                        47\n",
       "Boutique hotel               43\n",
       "Bungalow                     20\n",
       "Boat                         17\n",
       "Tiny house                   12\n",
       "Camper/RV                    11\n",
       "Houseboat                    11\n",
       "Villa                        10\n",
       "Pension (South Korea)         7\n",
       "Aparthotel                    7\n",
       "Cabin                         6\n",
       "Cottage                       4\n",
       "Resort                        3\n",
       "Train                         2\n",
       "Casa particular (Cuba)        2\n",
       "Castle                        2\n",
       "Chalet                        1\n",
       "Tipi                          1\n",
       "Cave                          1\n",
       "Island                        1\n",
       "In-law                        1\n",
       "Barn                          1\n",
       "Name: property_type, dtype: int64"
      ]
     },
     "execution_count": 14,
     "metadata": {},
     "output_type": "execute_result"
    }
   ],
   "source": [
    "df_final.property_type.value_counts()"
   ]
  },
  {
   "cell_type": "code",
   "execution_count": 15,
   "metadata": {},
   "outputs": [],
   "source": [
    "property =pd.DataFrame(df_final.property_type.value_counts())"
   ]
  },
  {
   "cell_type": "code",
   "execution_count": 16,
   "metadata": {},
   "outputs": [],
   "source": [
    "prop = np.array(property.index)"
   ]
  },
  {
   "cell_type": "code",
   "execution_count": 17,
   "metadata": {},
   "outputs": [
    {
     "name": "stdout",
     "output_type": "stream",
     "text": [
      "Townhouse\n",
      "Guest suite\n",
      "Bed and breakfast\n",
      "Guesthouse\n",
      "Hotel\n",
      "Other\n",
      "Boutique hotel\n",
      "Bungalow\n",
      "Boat\n",
      "Tiny house\n",
      "Camper/RV\n",
      "Houseboat\n",
      "Villa\n",
      "Pension (South Korea)\n",
      "Aparthotel\n",
      "Cabin\n",
      "Cottage\n",
      "Resort\n",
      "Train\n",
      "Casa particular (Cuba)\n",
      "Castle\n",
      "Chalet\n",
      "Tipi\n",
      "Cave\n",
      "Island\n",
      "In-law\n",
      "Barn\n"
     ]
    }
   ],
   "source": [
    "for i in range(6,(prop.shape[0])):\n",
    "    prop_string = prop[i]\n",
    "    print(prop_string)\n",
    "    df_final.property_type = df_final.property_type.str.replace(prop_string, 'others')"
   ]
  },
  {
   "cell_type": "code",
   "execution_count": 18,
   "metadata": {},
   "outputs": [],
   "source": [
    "df_final = df_final[df_final.property_type != \"Pension (South Korea)\"]\n",
    "df_final = df_final[df_final.property_type != \"Casa particular (Cuba)\"]"
   ]
  },
  {
   "cell_type": "code",
   "execution_count": 19,
   "metadata": {},
   "outputs": [
    {
     "data": {
      "text/plain": [
       "array(['others', 'Apartment', 'Condominium', 'Loft', 'House',\n",
       "       'Serviced apartment', 'Hostel'], dtype=object)"
      ]
     },
     "execution_count": 19,
     "metadata": {},
     "output_type": "execute_result"
    }
   ],
   "source": [
    "df_final.property_type.unique()"
   ]
  },
  {
   "cell_type": "code",
   "execution_count": 20,
   "metadata": {},
   "outputs": [],
   "source": [
    "df_final['property_type'] = pd.Categorical(df_final['property_type'])"
   ]
  },
  {
   "cell_type": "code",
   "execution_count": 21,
   "metadata": {},
   "outputs": [],
   "source": [
    "df2 = pd.get_dummies(df_final['property_type'], prefix = 'property_type')"
   ]
  },
  {
   "cell_type": "code",
   "execution_count": 22,
   "metadata": {},
   "outputs": [],
   "source": [
    "df_final = pd.concat([df_final, df2], axis=1)"
   ]
  },
  {
   "cell_type": "code",
   "execution_count": 23,
   "metadata": {},
   "outputs": [
    {
     "data": {
      "text/html": [
       "<div>\n",
       "<style scoped>\n",
       "    .dataframe tbody tr th:only-of-type {\n",
       "        vertical-align: middle;\n",
       "    }\n",
       "\n",
       "    .dataframe tbody tr th {\n",
       "        vertical-align: top;\n",
       "    }\n",
       "\n",
       "    .dataframe thead th {\n",
       "        text-align: right;\n",
       "    }\n",
       "</style>\n",
       "<table border=\"1\" class=\"dataframe\">\n",
       "  <thead>\n",
       "    <tr style=\"text-align: right;\">\n",
       "      <th></th>\n",
       "      <th>latitude</th>\n",
       "      <th>longitude</th>\n",
       "      <th>property_type</th>\n",
       "      <th>room_type</th>\n",
       "      <th>accommodates</th>\n",
       "      <th>bathrooms</th>\n",
       "      <th>bedrooms</th>\n",
       "      <th>beds</th>\n",
       "      <th>price</th>\n",
       "      <th>security_deposit</th>\n",
       "      <th>...</th>\n",
       "      <th>review_scores_location</th>\n",
       "      <th>review_scores_value</th>\n",
       "      <th>cancellation_policy</th>\n",
       "      <th>property_type_Apartment</th>\n",
       "      <th>property_type_Condominium</th>\n",
       "      <th>property_type_Hostel</th>\n",
       "      <th>property_type_House</th>\n",
       "      <th>property_type_Loft</th>\n",
       "      <th>property_type_Serviced apartment</th>\n",
       "      <th>property_type_others</th>\n",
       "    </tr>\n",
       "  </thead>\n",
       "  <tbody>\n",
       "    <tr>\n",
       "      <th>0</th>\n",
       "      <td>52.534537</td>\n",
       "      <td>13.402557</td>\n",
       "      <td>others</td>\n",
       "      <td>Entire home/apt</td>\n",
       "      <td>3</td>\n",
       "      <td>1.0</td>\n",
       "      <td>1.0</td>\n",
       "      <td>2.0</td>\n",
       "      <td>60.0</td>\n",
       "      <td>200.0</td>\n",
       "      <td>...</td>\n",
       "      <td>10.0</td>\n",
       "      <td>9.0</td>\n",
       "      <td>strict_14_with_grace_period</td>\n",
       "      <td>0</td>\n",
       "      <td>0</td>\n",
       "      <td>0</td>\n",
       "      <td>0</td>\n",
       "      <td>0</td>\n",
       "      <td>0</td>\n",
       "      <td>1</td>\n",
       "    </tr>\n",
       "    <tr>\n",
       "      <th>1</th>\n",
       "      <td>52.548513</td>\n",
       "      <td>13.404553</td>\n",
       "      <td>Apartment</td>\n",
       "      <td>Private room</td>\n",
       "      <td>2</td>\n",
       "      <td>1.0</td>\n",
       "      <td>1.0</td>\n",
       "      <td>1.0</td>\n",
       "      <td>17.0</td>\n",
       "      <td>0.0</td>\n",
       "      <td>...</td>\n",
       "      <td>10.0</td>\n",
       "      <td>10.0</td>\n",
       "      <td>flexible</td>\n",
       "      <td>1</td>\n",
       "      <td>0</td>\n",
       "      <td>0</td>\n",
       "      <td>0</td>\n",
       "      <td>0</td>\n",
       "      <td>0</td>\n",
       "      <td>0</td>\n",
       "    </tr>\n",
       "  </tbody>\n",
       "</table>\n",
       "<p>2 rows × 27 columns</p>\n",
       "</div>"
      ],
      "text/plain": [
       "    latitude  longitude property_type        room_type  accommodates  \\\n",
       "0  52.534537  13.402557        others  Entire home/apt             3   \n",
       "1  52.548513  13.404553     Apartment     Private room             2   \n",
       "\n",
       "   bathrooms  bedrooms  beds  price  security_deposit         ...           \\\n",
       "0        1.0       1.0   2.0   60.0             200.0         ...            \n",
       "1        1.0       1.0   1.0   17.0               0.0         ...            \n",
       "\n",
       "   review_scores_location  review_scores_value          cancellation_policy  \\\n",
       "0                    10.0                  9.0  strict_14_with_grace_period   \n",
       "1                    10.0                 10.0                     flexible   \n",
       "\n",
       "   property_type_Apartment  property_type_Condominium  property_type_Hostel  \\\n",
       "0                        0                          0                     0   \n",
       "1                        1                          0                     0   \n",
       "\n",
       "   property_type_House  property_type_Loft  property_type_Serviced apartment  \\\n",
       "0                    0                   0                                 0   \n",
       "1                    0                   0                                 0   \n",
       "\n",
       "  property_type_others  \n",
       "0                    1  \n",
       "1                    0  \n",
       "\n",
       "[2 rows x 27 columns]"
      ]
     },
     "execution_count": 23,
     "metadata": {},
     "output_type": "execute_result"
    }
   ],
   "source": [
    "df_final.head(2)"
   ]
  },
  {
   "cell_type": "code",
   "execution_count": 24,
   "metadata": {},
   "outputs": [
    {
     "data": {
      "text/plain": [
       "Private room       11525\n",
       "Entire home/apt    10722\n",
       "Shared room          296\n",
       "Name: room_type, dtype: int64"
      ]
     },
     "execution_count": 24,
     "metadata": {},
     "output_type": "execute_result"
    }
   ],
   "source": [
    "df_final.room_type.value_counts()"
   ]
  },
  {
   "cell_type": "code",
   "execution_count": 25,
   "metadata": {},
   "outputs": [],
   "source": [
    "df_final['room_type'] = pd.Categorical(df_final['room_type'])"
   ]
  },
  {
   "cell_type": "code",
   "execution_count": 26,
   "metadata": {},
   "outputs": [],
   "source": [
    "df2 = pd.get_dummies(df_final['room_type'], prefix = 'room_type')"
   ]
  },
  {
   "cell_type": "code",
   "execution_count": 27,
   "metadata": {},
   "outputs": [],
   "source": [
    "df_final = pd.concat([df_final, df2], axis=1)"
   ]
  },
  {
   "cell_type": "code",
   "execution_count": 28,
   "metadata": {},
   "outputs": [],
   "source": [
    "df_final['cancellation_policy'] = pd.Categorical(df_final['cancellation_policy'])"
   ]
  },
  {
   "cell_type": "code",
   "execution_count": 29,
   "metadata": {},
   "outputs": [],
   "source": [
    "df2 = pd.get_dummies(df_final['cancellation_policy'], prefix = 'cancellation_policy')"
   ]
  },
  {
   "cell_type": "code",
   "execution_count": 30,
   "metadata": {},
   "outputs": [],
   "source": [
    "df_final = pd.concat([df_final, df2], axis=1)"
   ]
  },
  {
   "cell_type": "code",
   "execution_count": 31,
   "metadata": {},
   "outputs": [
    {
     "data": {
      "text/plain": [
       "Index(['latitude', 'longitude', 'property_type', 'room_type', 'accommodates',\n",
       "       'bathrooms', 'bedrooms', 'beds', 'price', 'security_deposit',\n",
       "       'cleaning_fee', 'guests_included', 'review_scores_rating',\n",
       "       'review_scores_accuracy', 'review_scores_cleanliness',\n",
       "       'review_scores_checkin', 'review_scores_communication',\n",
       "       'review_scores_location', 'review_scores_value', 'cancellation_policy',\n",
       "       'property_type_Apartment', 'property_type_Condominium',\n",
       "       'property_type_Hostel', 'property_type_House', 'property_type_Loft',\n",
       "       'property_type_Serviced apartment', 'property_type_others',\n",
       "       'room_type_Entire home/apt', 'room_type_Private room',\n",
       "       'room_type_Shared room', 'cancellation_policy_flexible',\n",
       "       'cancellation_policy_moderate',\n",
       "       'cancellation_policy_strict_14_with_grace_period',\n",
       "       'cancellation_policy_super_strict_30',\n",
       "       'cancellation_policy_super_strict_60'],\n",
       "      dtype='object')"
      ]
     },
     "execution_count": 31,
     "metadata": {},
     "output_type": "execute_result"
    }
   ],
   "source": [
    "df_final.columns"
   ]
  },
  {
   "cell_type": "code",
   "execution_count": 32,
   "metadata": {},
   "outputs": [],
   "source": [
    "df_final1 = df_final"
   ]
  },
  {
   "cell_type": "code",
   "execution_count": 33,
   "metadata": {},
   "outputs": [],
   "source": [
    "df_final1 = df_final1.drop(['property_type','room_type','cancellation_policy'],axis=1)"
   ]
  },
  {
   "cell_type": "code",
   "execution_count": 34,
   "metadata": {},
   "outputs": [
    {
     "data": {
      "text/plain": [
       "Index(['latitude', 'longitude', 'accommodates', 'bathrooms', 'bedrooms',\n",
       "       'beds', 'price', 'security_deposit', 'cleaning_fee', 'guests_included',\n",
       "       'review_scores_rating', 'review_scores_accuracy',\n",
       "       'review_scores_cleanliness', 'review_scores_checkin',\n",
       "       'review_scores_communication', 'review_scores_location',\n",
       "       'review_scores_value', 'property_type_Apartment',\n",
       "       'property_type_Condominium', 'property_type_Hostel',\n",
       "       'property_type_House', 'property_type_Loft',\n",
       "       'property_type_Serviced apartment', 'property_type_others',\n",
       "       'room_type_Entire home/apt', 'room_type_Private room',\n",
       "       'room_type_Shared room', 'cancellation_policy_flexible',\n",
       "       'cancellation_policy_moderate',\n",
       "       'cancellation_policy_strict_14_with_grace_period',\n",
       "       'cancellation_policy_super_strict_30',\n",
       "       'cancellation_policy_super_strict_60'],\n",
       "      dtype='object')"
      ]
     },
     "execution_count": 34,
     "metadata": {},
     "output_type": "execute_result"
    }
   ],
   "source": [
    "df_final1.columns"
   ]
  },
  {
   "cell_type": "code",
   "execution_count": 35,
   "metadata": {},
   "outputs": [
    {
     "data": {
      "text/plain": [
       "(22543, 32)"
      ]
     },
     "execution_count": 35,
     "metadata": {},
     "output_type": "execute_result"
    }
   ],
   "source": [
    "df_final1.shape"
   ]
  },
  {
   "cell_type": "code",
   "execution_count": 36,
   "metadata": {},
   "outputs": [
    {
     "data": {
      "text/plain": [
       "<matplotlib.figure.Figure at 0x1a117d9470>"
      ]
     },
     "metadata": {},
     "output_type": "display_data"
    },
    {
     "data": {
      "image/png": "[encoded data removed]",
      "text/plain": [
       "<matplotlib.figure.Figure at 0x1a0c8910b8>"
      ]
     },
     "metadata": {},
     "output_type": "display_data"
    }
   ],
   "source": [
    "\n",
    "#corre = df_final[['security_deposit','cleaning_fee','price']].corr()\n",
    "corre = df_final1.corr()\n",
    "mask = np.zeros_like(corre)\n",
    "mask[np.triu_indices_from(mask)] = True\n",
    "cmap = plt.cm.get_cmap('jet',30)\n",
    "fig = plt.figure()\n",
    "f,ax = plt.subplots(figsize=(20,20))\n",
    "fig.suptitle('HeaMap')\n",
    "with sns.axes_style(\"white\"):\n",
    "  ax = sns.heatmap(corre, mask=mask, cmap=cmap, annot=True, vmax=1.0, vmin=-1.0, square=True, linewidths=.5, cbar_kws={\"shrink\": .5})\n",
    "  plt.xlabel(\"X axis\")\n",
    "  plt.ylabel(\"Y axis\")\n",
    "  fig\n",
    "plt.show()"
   ]
  },
  {
   "cell_type": "code",
   "execution_count": 37,
   "metadata": {},
   "outputs": [
    {
     "data": {
      "text/plain": [
       "latitude                                              0\n",
       "longitude                                             0\n",
       "accommodates                                          0\n",
       "bathrooms                                            32\n",
       "bedrooms                                             18\n",
       "beds                                                 40\n",
       "price                                                 0\n",
       "security_deposit                                      0\n",
       "cleaning_fee                                          0\n",
       "guests_included                                       0\n",
       "review_scores_rating                               4381\n",
       "review_scores_accuracy                             4406\n",
       "review_scores_cleanliness                          4403\n",
       "review_scores_checkin                              4424\n",
       "review_scores_communication                        4410\n",
       "review_scores_location                             4423\n",
       "review_scores_value                                4427\n",
       "property_type_Apartment                               0\n",
       "property_type_Condominium                             0\n",
       "property_type_Hostel                                  0\n",
       "property_type_House                                   0\n",
       "property_type_Loft                                    0\n",
       "property_type_Serviced apartment                      0\n",
       "property_type_others                                  0\n",
       "room_type_Entire home/apt                             0\n",
       "room_type_Private room                                0\n",
       "room_type_Shared room                                 0\n",
       "cancellation_policy_flexible                          0\n",
       "cancellation_policy_moderate                          0\n",
       "cancellation_policy_strict_14_with_grace_period       0\n",
       "cancellation_policy_super_strict_30                   0\n",
       "cancellation_policy_super_strict_60                   0\n",
       "dtype: int64"
      ]
     },
     "execution_count": 37,
     "metadata": {},
     "output_type": "execute_result"
    }
   ],
   "source": [
    "df_final1.isnull().sum()"
   ]
  },
  {
   "cell_type": "code",
   "execution_count": 38,
   "metadata": {},
   "outputs": [],
   "source": [
    "mean_bathrooms = df_final1['bathrooms'].mean()\n",
    "df_final1['bathrooms'] = df_final1['bathrooms'].fillna(mean_bathrooms)\n",
    "mean_bedrooms = df_final1['bedrooms'].mean()\n",
    "df_final1['bedrooms'] = df_final1['bedrooms'].fillna(mean_bedrooms)\n",
    "mean_beds = df_final1['beds'].mean()\n",
    "df_final1['beds'] = df_final1['beds'].fillna(mean_beds)\n",
    "mean_rating = df_final1['review_scores_rating'].mean()\n",
    "df_final1['review_scores_rating'] = df_final1['review_scores_rating'].fillna(mean_rating)\n",
    "mean_accuracy = df_final1['review_scores_accuracy'].mean()\n",
    "df_final1['review_scores_accuracy'] = df_final1['review_scores_accuracy'].fillna(mean_accuracy)\n",
    "mean_cleanliness = df_final1['review_scores_cleanliness'].mean()\n",
    "df_final1['review_scores_cleanliness'] = df_final1['review_scores_cleanliness'].fillna(mean_cleanliness)\n",
    "mean_checkin = df_final1['review_scores_checkin'].mean()\n",
    "df_final1['review_scores_checkin'] = df_final1['review_scores_checkin'].fillna(mean_checkin)\n",
    "mean_communication = df_final1['review_scores_communication'].mean()\n",
    "df_final1['review_scores_communication'] = df_final1['review_scores_communication'].fillna(mean_communication)\n",
    "mean_location = df_final1['review_scores_location'].mean()\n",
    "df_final1['review_scores_location'] = df_final1['review_scores_location'].fillna(mean_location)\n",
    "mean_value = df_final1['review_scores_value'].mean()\n",
    "df_final1['review_scores_value'] = df_final1['review_scores_value'].fillna(mean_value)\n"
   ]
  },
  {
   "cell_type": "code",
   "execution_count": 39,
   "metadata": {},
   "outputs": [
    {
     "data": {
      "text/plain": [
       "(22543, 32)"
      ]
     },
     "execution_count": 39,
     "metadata": {},
     "output_type": "execute_result"
    }
   ],
   "source": [
    "df_final1.shape"
   ]
  },
  {
   "cell_type": "code",
   "execution_count": 40,
   "metadata": {},
   "outputs": [],
   "source": [
    "df_final1.drop(df_final1[ (df_final1.price > 400) | (df_final1.price == 0) ].index, axis=0, inplace=True)"
   ]
  },
  {
   "cell_type": "code",
   "execution_count": 41,
   "metadata": {},
   "outputs": [],
   "source": [
    "def distance_to_mid(lat, lon):\n",
    "    berlin_centre = (52.5027778,13.404166666666667)\n",
    "    accommodation = (lat,lon)\n",
    "    return great_circle(berlin_centre,accommodation).miles"
   ]
  },
  {
   "cell_type": "code",
   "execution_count": 42,
   "metadata": {},
   "outputs": [],
   "source": [
    "df_final1= df_final1.assign(distance=df_final1.apply(lambda x: distance_to_mid(x.latitude, x.longitude), axis=1))"
   ]
  },
  {
   "cell_type": "code",
   "execution_count": 43,
   "metadata": {},
   "outputs": [
    {
     "data": {
      "text/plain": [
       "latitude                                           0\n",
       "longitude                                          0\n",
       "accommodates                                       0\n",
       "bathrooms                                          0\n",
       "bedrooms                                           0\n",
       "beds                                               0\n",
       "price                                              0\n",
       "security_deposit                                   0\n",
       "cleaning_fee                                       0\n",
       "guests_included                                    0\n",
       "review_scores_rating                               0\n",
       "review_scores_accuracy                             0\n",
       "review_scores_cleanliness                          0\n",
       "review_scores_checkin                              0\n",
       "review_scores_communication                        0\n",
       "review_scores_location                             0\n",
       "review_scores_value                                0\n",
       "property_type_Apartment                            0\n",
       "property_type_Condominium                          0\n",
       "property_type_Hostel                               0\n",
       "property_type_House                                0\n",
       "property_type_Loft                                 0\n",
       "property_type_Serviced apartment                   0\n",
       "property_type_others                               0\n",
       "room_type_Entire home/apt                          0\n",
       "room_type_Private room                             0\n",
       "room_type_Shared room                              0\n",
       "cancellation_policy_flexible                       0\n",
       "cancellation_policy_moderate                       0\n",
       "cancellation_policy_strict_14_with_grace_period    0\n",
       "cancellation_policy_super_strict_30                0\n",
       "cancellation_policy_super_strict_60                0\n",
       "distance                                           0\n",
       "dtype: int64"
      ]
     },
     "execution_count": 43,
     "metadata": {},
     "output_type": "execute_result"
    }
   ],
   "source": [
    "df_final1.isnull().sum()"
   ]
  },
  {
   "cell_type": "code",
   "execution_count": 44,
   "metadata": {},
   "outputs": [],
   "source": [
    "df_final1 = df_final1.drop([\"latitude\",\"longitude\"],axis=1)"
   ]
  },
  {
   "cell_type": "code",
   "execution_count": 45,
   "metadata": {},
   "outputs": [
    {
     "data": {
      "text/plain": [
       "count    22432.000000\n",
       "mean        57.577612\n",
       "std         42.165267\n",
       "min          1.000000\n",
       "25%         30.000000\n",
       "50%         45.000000\n",
       "75%         70.000000\n",
       "max        400.000000\n",
       "Name: price, dtype: float64"
      ]
     },
     "execution_count": 45,
     "metadata": {},
     "output_type": "execute_result"
    }
   ],
   "source": [
    "df_final1['price'].describe()"
   ]
  },
  {
   "cell_type": "code",
   "execution_count": 46,
   "metadata": {},
   "outputs": [],
   "source": [
    "y = df_final1['price']"
   ]
  },
  {
   "cell_type": "code",
   "execution_count": 101,
   "metadata": {},
   "outputs": [],
   "source": [
    "X = df_final1.drop(['price'],axis=1)"
   ]
  },
  {
   "cell_type": "code",
   "execution_count": 74,
   "metadata": {},
   "outputs": [],
   "source": [
    "# Scaling function\n",
    "def minmaxscaling(X):\n",
    "    min_max=MinMaxScaler()\n",
    "    X_minmax=pd.DataFrame(min_max.fit_transform(X),index =X.index,columns = X.columns)\n",
    "    return X_minmax"
   ]
  },
  {
   "cell_type": "code",
   "execution_count": 49,
   "metadata": {},
   "outputs": [
    {
     "data": {
      "text/plain": [
       "(22432, 30)"
      ]
     },
     "execution_count": 49,
     "metadata": {},
     "output_type": "execute_result"
    }
   ],
   "source": [
    "X.shape"
   ]
  },
  {
   "cell_type": "code",
   "execution_count": 86,
   "metadata": {},
   "outputs": [],
   "source": [
    "X = minmaxscaling(X)"
   ]
  },
  {
   "cell_type": "code",
   "execution_count": 87,
   "metadata": {},
   "outputs": [],
   "source": [
    "# Dont make any changes here\n",
    "# If you go wrong you can refer here\n",
    "# X = X[['accommodates','bathrooms','bedrooms','beds','security_deposit','cleaning_fee','guests_included','review_scores_rating','review_scores_accuracy','review_scores_cleanliness','review_scores_checkin','review_scores_communication','review_scores_location','review_scores_value','property_type_Apartment','property_type_Condominium','property_type_Hostel','property_type_House','property_type_Loft','property_type_Serviced apartment','property_type_others','room_type_Entire home/apt','room_type_Private room','room_type_Shared room','cancellation_policy_flexible','cancellation_policy_moderate','cancellation_policy_strict_14_with_grace_period','cancellation_policy_super_strict_30','cancellation_policy_super_strict_60','distance']]"
   ]
  },
  {
   "cell_type": "code",
   "execution_count": null,
   "metadata": {},
   "outputs": [],
   "source": [
    "# X = X[['accommodates','bathrooms','bedrooms','beds','security_deposit','cleaning_fee','guests_included','review_scores_rating','review_scores_accuracy','review_scores_cleanliness','review_scores_checkin','review_scores_communication','review_scores_location','review_scores_value','property_type_Apartment','property_type_Condominium','property_type_Hostel','property_type_House','property_type_Loft','property_type_Serviced apartment','property_type_others','room_type_Entire home/apt','room_type_Private room','room_type_Shared room','cancellation_policy_flexible','cancellation_policy_moderate','cancellation_policy_strict_14_with_grace_period','cancellation_policy_super_strict_30','cancellation_policy_super_strict_60','distance']]"
   ]
  },
  {
   "cell_type": "code",
   "execution_count": 108,
   "metadata": {},
   "outputs": [],
   "source": [
    " X = X[['accommodates','bathrooms','bedrooms','beds','security_deposit','cleaning_fee','guests_included','property_type_Apartment','property_type_Condominium','property_type_Hostel','property_type_House','property_type_Loft','property_type_Serviced apartment','property_type_others','room_type_Entire home/apt','room_type_Private room','room_type_Shared room','cancellation_policy_flexible','cancellation_policy_moderate','cancellation_policy_strict_14_with_grace_period','cancellation_policy_super_strict_30','cancellation_policy_super_strict_60','distance']]\n",
    "    "
   ]
  },
  {
   "cell_type": "code",
   "execution_count": 76,
   "metadata": {},
   "outputs": [],
   "source": [
    "#X = X[['accommodates','bathrooms','bedrooms','beds','security_deposit','cleaning_fee','guests_included','review_scores_rating','review_scores_accuracy','property_type_Apartment','property_type_Condominium','property_type_Hostel','property_type_House','property_type_Loft','property_type_Serviced apartment','property_type_others','room_type_Entire home/apt','room_type_Private room','room_type_Shared room','cancellation_policy_flexible','cancellation_policy_moderate','cancellation_policy_strict_14_with_grace_period','cancellation_policy_super_strict_30','cancellation_policy_super_strict_60','distance']]"
   ]
  },
  {
   "cell_type": "code",
   "execution_count": 77,
   "metadata": {},
   "outputs": [
    {
     "data": {
      "text/plain": [
       "(22432, 24)"
      ]
     },
     "execution_count": 77,
     "metadata": {},
     "output_type": "execute_result"
    }
   ],
   "source": [
    "X.shape"
   ]
  },
  {
   "cell_type": "code",
   "execution_count": 89,
   "metadata": {},
   "outputs": [],
   "source": [
    "X_train, X_test, y_train, y_test = train_test_split(X,y,test_size = 0.25,random_state = 42)"
   ]
  },
  {
   "cell_type": "code",
   "execution_count": 95,
   "metadata": {},
   "outputs": [],
   "source": [
    "import re\n",
    "import xgboost as xgb"
   ]
  },
  {
   "cell_type": "code",
   "execution_count": 104,
   "metadata": {},
   "outputs": [
    {
     "name": "stdout",
     "output_type": "stream",
     "text": [
      "{'colsample_bytree': 0.6, 'gamma': 0.2, 'learning_rate': 0.05, 'max_depth': 7, 'n_estimators': 200}\n"
     ]
    }
   ],
   "source": [
    "booster = xgb.XGBRegressor()\n",
    "from sklearn.model_selection import GridSearchCV\n",
    "\n",
    "# create Grid\n",
    "param_grid = {'n_estimators': [100, 150, 200],\n",
    "              'learning_rate': [0.01, 0.05, 0.1], \n",
    "              'max_depth': [3, 4, 5, 6, 7],\n",
    "              'colsample_bytree': [0.6, 0.7, 1],\n",
    "              'gamma': [0.0, 0.1, 0.2]}\n",
    "\n",
    "# instantiate the tuned random forest\n",
    "booster_grid_search = GridSearchCV(booster, param_grid, cv=3, n_jobs=-1)\n",
    "\n",
    "# train the tuned random forest\n",
    "booster_grid_search.fit(X_train, y_train)\n",
    "\n",
    "# print best estimator parameters found during the grid search\n",
    "print(booster_grid_search.best_params_)"
   ]
  },
  {
   "cell_type": "code",
   "execution_count": 105,
   "metadata": {},
   "outputs": [],
   "source": [
    "booster = xgb.XGBRegressor(colsample_bytree=0.7, gamma=0.2, learning_rate=0.1, \n",
    "                           max_depth=6, n_estimators=200, random_state=4)\n",
    "\n",
    "# train\n",
    "booster.fit(X_train, y_train)\n",
    "\n",
    "# predict\n",
    "y_pred_train = booster.predict(X_train)\n",
    "y_pred_test = booster.predict(X_test)"
   ]
  },
  {
   "cell_type": "code",
   "execution_count": 106,
   "metadata": {},
   "outputs": [
    {
     "data": {
      "text/plain": [
       "0.5562042286338342"
      ]
     },
     "execution_count": 106,
     "metadata": {},
     "output_type": "execute_result"
    }
   ],
   "source": [
    "r2_score(y_test, y_pred_test)"
   ]
  },
  {
   "cell_type": "code",
   "execution_count": 107,
   "metadata": {},
   "outputs": [
    {
     "data": {
      "text/plain": [
       "791.7301891625145"
      ]
     },
     "execution_count": 107,
     "metadata": {},
     "output_type": "execute_result"
    }
   ],
   "source": [
    "mean_squared_error(y_test,y_pred_test)"
   ]
  },
  {
   "cell_type": "code",
   "execution_count": null,
   "metadata": {},
   "outputs": [],
   "source": []
  },
  {
   "cell_type": "code",
   "execution_count": null,
   "metadata": {},
   "outputs": [],
   "source": []
  },
  {
   "cell_type": "code",
   "execution_count": null,
   "metadata": {},
   "outputs": [],
   "source": []
  },
  {
   "cell_type": "code",
   "execution_count": 90,
   "metadata": {},
   "outputs": [],
   "source": [
    "lm = LinearRegression()\n",
    "modellinear = lm.fit(X_train,y_train)\n",
    "y_test_predicted  = modellinear.predict(X_test)"
   ]
  },
  {
   "cell_type": "code",
   "execution_count": 91,
   "metadata": {},
   "outputs": [],
   "source": [
    "rf = RandomForestRegressor(n_estimators = 1000, random_state = 42)\n",
    "modelrandom = rf.fit(X_train,y_train)\n",
    "Y_test_predicted_rf = modelrandom.predict(X_test)"
   ]
  },
  {
   "cell_type": "code",
   "execution_count": 69,
   "metadata": {},
   "outputs": [
    {
     "data": {
      "text/plain": [
       "0.45317236436931974"
      ]
     },
     "execution_count": 69,
     "metadata": {},
     "output_type": "execute_result"
    }
   ],
   "source": [
    "# Linear Regression R2 score\n",
    "r2_score(y_test,y_test_predicted)  "
   ]
  },
  {
   "cell_type": "code",
   "execution_count": 92,
   "metadata": {},
   "outputs": [
    {
     "data": {
      "text/plain": [
       "0.5137477177171881"
      ]
     },
     "execution_count": 92,
     "metadata": {},
     "output_type": "execute_result"
    }
   ],
   "source": [
    "# RandomForest R2 score\n",
    "r2_score(y_test,Y_test_predicted_rf)"
   ]
  },
  {
   "cell_type": "code",
   "execution_count": 93,
   "metadata": {},
   "outputs": [],
   "source": [
    "from sklearn.metrics import mean_squared_error"
   ]
  },
  {
   "cell_type": "code",
   "execution_count": 94,
   "metadata": {},
   "outputs": [
    {
     "data": {
      "text/plain": [
       "867.4724642989814"
      ]
     },
     "execution_count": 94,
     "metadata": {},
     "output_type": "execute_result"
    }
   ],
   "source": [
    "mean_squared_error(y_test,Y_test_predicted_rf)"
   ]
  },
  {
   "cell_type": "code",
   "execution_count": null,
   "metadata": {},
   "outputs": [],
   "source": []
  },
  {
   "cell_type": "markdown",
   "metadata": {},
   "source": [
    "# Testing features"
   ]
  },
  {
   "cell_type": "code",
   "execution_count": 176,
   "metadata": {},
   "outputs": [],
   "source": [
    "from sklearn.feature_selection import SelectKBest\n",
    "from sklearn.feature_selection import chi2"
   ]
  },
  {
   "cell_type": "code",
   "execution_count": 177,
   "metadata": {},
   "outputs": [
    {
     "data": {
      "text/plain": [
       "(22432, 30)"
      ]
     },
     "execution_count": 177,
     "metadata": {},
     "output_type": "execute_result"
    }
   ],
   "source": [
    "X.shape"
   ]
  },
  {
   "cell_type": "code",
   "execution_count": 178,
   "metadata": {},
   "outputs": [],
   "source": [
    "X_t = X.iloc[:,0:30]"
   ]
  },
  {
   "cell_type": "code",
   "execution_count": 179,
   "metadata": {},
   "outputs": [],
   "source": [
    "y_t = y"
   ]
  },
  {
   "cell_type": "code",
   "execution_count": 180,
   "metadata": {},
   "outputs": [],
   "source": [
    "bestfeatures = SelectKBest(score_func=chi2, k=30)"
   ]
  },
  {
   "cell_type": "code",
   "execution_count": 181,
   "metadata": {},
   "outputs": [],
   "source": [
    "fit = bestfeatures.fit(X_t,y_t)"
   ]
  },
  {
   "cell_type": "code",
   "execution_count": 182,
   "metadata": {},
   "outputs": [],
   "source": [
    "dfscores = pd.DataFrame(fit.scores_)\n",
    "dfcolumns = pd.DataFrame(X_t.columns)"
   ]
  },
  {
   "cell_type": "code",
   "execution_count": 183,
   "metadata": {},
   "outputs": [],
   "source": [
    "featureScores = pd.concat([dfcolumns,dfscores],axis=1)\n",
    "featureScores.columns = ['Specs','Score']"
   ]
  },
  {
   "cell_type": "code",
   "execution_count": 188,
   "metadata": {},
   "outputs": [],
   "source": [
    "dfff = featureScores.nlargest(30,'Score')"
   ]
  },
  {
   "cell_type": "code",
   "execution_count": null,
   "metadata": {},
   "outputs": [],
   "source": [
    "security_deposit, cleaning_fee, accommodates, cancellation_policy_super_strict_60, beds "
   ]
  },
  {
   "cell_type": "code",
   "execution_count": 189,
   "metadata": {},
   "outputs": [
    {
     "data": {
      "text/html": [
       "<div>\n",
       "<style scoped>\n",
       "    .dataframe tbody tr th:only-of-type {\n",
       "        vertical-align: middle;\n",
       "    }\n",
       "\n",
       "    .dataframe tbody tr th {\n",
       "        vertical-align: top;\n",
       "    }\n",
       "\n",
       "    .dataframe thead th {\n",
       "        text-align: right;\n",
       "    }\n",
       "</style>\n",
       "<table border=\"1\" class=\"dataframe\">\n",
       "  <thead>\n",
       "    <tr style=\"text-align: right;\">\n",
       "      <th></th>\n",
       "      <th>Specs</th>\n",
       "      <th>Score</th>\n",
       "    </tr>\n",
       "  </thead>\n",
       "  <tbody>\n",
       "    <tr>\n",
       "      <th>4</th>\n",
       "      <td>security_deposit</td>\n",
       "      <td>1.067484e+06</td>\n",
       "    </tr>\n",
       "    <tr>\n",
       "      <th>5</th>\n",
       "      <td>cleaning_fee</td>\n",
       "      <td>1.639439e+05</td>\n",
       "    </tr>\n",
       "    <tr>\n",
       "      <th>0</th>\n",
       "      <td>accommodates</td>\n",
       "      <td>6.969487e+03</td>\n",
       "    </tr>\n",
       "    <tr>\n",
       "      <th>28</th>\n",
       "      <td>cancellation_policy_super_strict_60</td>\n",
       "      <td>5.625095e+03</td>\n",
       "    </tr>\n",
       "    <tr>\n",
       "      <th>3</th>\n",
       "      <td>beds</td>\n",
       "      <td>5.074475e+03</td>\n",
       "    </tr>\n",
       "    <tr>\n",
       "      <th>21</th>\n",
       "      <td>room_type_Entire home/apt</td>\n",
       "      <td>4.393426e+03</td>\n",
       "    </tr>\n",
       "    <tr>\n",
       "      <th>22</th>\n",
       "      <td>room_type_Private room</td>\n",
       "      <td>3.808607e+03</td>\n",
       "    </tr>\n",
       "    <tr>\n",
       "      <th>6</th>\n",
       "      <td>guests_included</td>\n",
       "      <td>2.801214e+03</td>\n",
       "    </tr>\n",
       "    <tr>\n",
       "      <th>27</th>\n",
       "      <td>cancellation_policy_super_strict_30</td>\n",
       "      <td>2.409875e+03</td>\n",
       "    </tr>\n",
       "    <tr>\n",
       "      <th>19</th>\n",
       "      <td>property_type_Serviced apartment</td>\n",
       "      <td>2.173891e+03</td>\n",
       "    </tr>\n",
       "    <tr>\n",
       "      <th>2</th>\n",
       "      <td>bedrooms</td>\n",
       "      <td>2.030546e+03</td>\n",
       "    </tr>\n",
       "    <tr>\n",
       "      <th>23</th>\n",
       "      <td>room_type_Shared room</td>\n",
       "      <td>1.216383e+03</td>\n",
       "    </tr>\n",
       "    <tr>\n",
       "      <th>16</th>\n",
       "      <td>property_type_Hostel</td>\n",
       "      <td>1.147895e+03</td>\n",
       "    </tr>\n",
       "    <tr>\n",
       "      <th>18</th>\n",
       "      <td>property_type_Loft</td>\n",
       "      <td>1.010757e+03</td>\n",
       "    </tr>\n",
       "    <tr>\n",
       "      <th>26</th>\n",
       "      <td>cancellation_policy_strict_14_with_grace_period</td>\n",
       "      <td>9.255389e+02</td>\n",
       "    </tr>\n",
       "    <tr>\n",
       "      <th>24</th>\n",
       "      <td>cancellation_policy_flexible</td>\n",
       "      <td>8.424789e+02</td>\n",
       "    </tr>\n",
       "    <tr>\n",
       "      <th>20</th>\n",
       "      <td>property_type_others</td>\n",
       "      <td>8.194946e+02</td>\n",
       "    </tr>\n",
       "    <tr>\n",
       "      <th>29</th>\n",
       "      <td>distance</td>\n",
       "      <td>5.555942e+02</td>\n",
       "    </tr>\n",
       "    <tr>\n",
       "      <th>17</th>\n",
       "      <td>property_type_House</td>\n",
       "      <td>4.898995e+02</td>\n",
       "    </tr>\n",
       "    <tr>\n",
       "      <th>15</th>\n",
       "      <td>property_type_Condominium</td>\n",
       "      <td>4.267897e+02</td>\n",
       "    </tr>\n",
       "    <tr>\n",
       "      <th>25</th>\n",
       "      <td>cancellation_policy_moderate</td>\n",
       "      <td>2.742971e+02</td>\n",
       "    </tr>\n",
       "    <tr>\n",
       "      <th>1</th>\n",
       "      <td>bathrooms</td>\n",
       "      <td>2.390599e+02</td>\n",
       "    </tr>\n",
       "    <tr>\n",
       "      <th>7</th>\n",
       "      <td>review_scores_rating</td>\n",
       "      <td>1.379191e+02</td>\n",
       "    </tr>\n",
       "    <tr>\n",
       "      <th>14</th>\n",
       "      <td>property_type_Apartment</td>\n",
       "      <td>1.311122e+02</td>\n",
       "    </tr>\n",
       "    <tr>\n",
       "      <th>9</th>\n",
       "      <td>review_scores_cleanliness</td>\n",
       "      <td>3.584974e+01</td>\n",
       "    </tr>\n",
       "    <tr>\n",
       "      <th>13</th>\n",
       "      <td>review_scores_value</td>\n",
       "      <td>2.157642e+01</td>\n",
       "    </tr>\n",
       "    <tr>\n",
       "      <th>12</th>\n",
       "      <td>review_scores_location</td>\n",
       "      <td>2.073938e+01</td>\n",
       "    </tr>\n",
       "    <tr>\n",
       "      <th>8</th>\n",
       "      <td>review_scores_accuracy</td>\n",
       "      <td>1.325768e+01</td>\n",
       "    </tr>\n",
       "    <tr>\n",
       "      <th>10</th>\n",
       "      <td>review_scores_checkin</td>\n",
       "      <td>8.625383e+00</td>\n",
       "    </tr>\n",
       "    <tr>\n",
       "      <th>11</th>\n",
       "      <td>review_scores_communication</td>\n",
       "      <td>8.138716e+00</td>\n",
       "    </tr>\n",
       "  </tbody>\n",
       "</table>\n",
       "</div>"
      ],
      "text/plain": [
       "                                              Specs         Score\n",
       "4                                  security_deposit  1.067484e+06\n",
       "5                                      cleaning_fee  1.639439e+05\n",
       "0                                      accommodates  6.969487e+03\n",
       "28              cancellation_policy_super_strict_60  5.625095e+03\n",
       "3                                              beds  5.074475e+03\n",
       "21                        room_type_Entire home/apt  4.393426e+03\n",
       "22                           room_type_Private room  3.808607e+03\n",
       "6                                   guests_included  2.801214e+03\n",
       "27              cancellation_policy_super_strict_30  2.409875e+03\n",
       "19                 property_type_Serviced apartment  2.173891e+03\n",
       "2                                          bedrooms  2.030546e+03\n",
       "23                            room_type_Shared room  1.216383e+03\n",
       "16                             property_type_Hostel  1.147895e+03\n",
       "18                               property_type_Loft  1.010757e+03\n",
       "26  cancellation_policy_strict_14_with_grace_period  9.255389e+02\n",
       "24                     cancellation_policy_flexible  8.424789e+02\n",
       "20                             property_type_others  8.194946e+02\n",
       "29                                         distance  5.555942e+02\n",
       "17                              property_type_House  4.898995e+02\n",
       "15                        property_type_Condominium  4.267897e+02\n",
       "25                     cancellation_policy_moderate  2.742971e+02\n",
       "1                                         bathrooms  2.390599e+02\n",
       "7                              review_scores_rating  1.379191e+02\n",
       "14                          property_type_Apartment  1.311122e+02\n",
       "9                         review_scores_cleanliness  3.584974e+01\n",
       "13                              review_scores_value  2.157642e+01\n",
       "12                           review_scores_location  2.073938e+01\n",
       "8                            review_scores_accuracy  1.325768e+01\n",
       "10                            review_scores_checkin  8.625383e+00\n",
       "11                      review_scores_communication  8.138716e+00"
      ]
     },
     "execution_count": 189,
     "metadata": {},
     "output_type": "execute_result"
    }
   ],
   "source": [
    "dfff"
   ]
  },
  {
   "cell_type": "code",
   "execution_count": null,
   "metadata": {},
   "outputs": [],
   "source": [
    "X = X[['security_deposit','cleaning_fee','accommodates','cancellation_policy_super_strict_60','beds', 'room_type_Entire home/apt','room_type_Private room','guests_included','cancellation_policy_super_strict_30','property_type_Serviced apartment','bedrooms','room_type_Shared room','property_type_Hostel','property_type_Loft']]         "
   ]
  },
  {
   "cell_type": "code",
   "execution_count": null,
   "metadata": {},
   "outputs": [],
   "source": [
    "X = X[[,,,,'property_type_Apartment',,,,,,'distance']]\n"
   ]
  }
 ],
 "metadata": {
  "kernelspec": {
   "display_name": "Python 3",
   "language": "python",
   "name": "python3"
  },
  "language_info": {
   "codemirror_mode": {
    "name": "ipython",
    "version": 3
   },
   "file_extension": ".py",
   "mimetype": "text/x-python",
   "name": "python",
   "nbconvert_exporter": "python",
   "pygments_lexer": "ipython3",
   "version": "3.7.1"
  }
 },
 "nbformat": 4,
 "nbformat_minor": 2
}
